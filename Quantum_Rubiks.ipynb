{
 "cells": [
  {
   "cell_type": "markdown",
   "metadata": {},
   "source": [
    "### A quantum algorithm to solve the Rubik's cube\n",
    "Author's: Quentin Bragard, James Conway, Steve Flinter, Nicola Mariella, Conor McQuillan\n",
    "\n",
    "Problem Statement: As part of the UCD Qiskit Community Summer Jam, we were challenged to solve a unique combinatorial problem using Quantum Computing Techniques\n",
    "    \n",
    "We propose a quantum algorithm for solving a 2x2x2 rubiks cube.\n",
    "\n",
    "#### Description of the algorithm\n",
    "\n",
    "<img src=\"Quantum Circuit (Rubix).png\">\n",
    "\n",
    "The **oracle** $O(A)$ encodes the state of the cube $A$ starting from $|0\\rangle^{\\otimes n}$.\n",
    "Now, $\\vec{A}$ is the vector containing the integer encoded colors of the stickers of the cube, so we define the oracle $O(\\vec{A})$ as follows\n",
    "$$ O(\\vec{A}) = \\left(\\sum_{k=0}^{2^n-1} |k\\rangle \\langle k| e^{i 2\\pi A_k/6}\\right) H^{\\otimes n}$$\n",
    "where $A_k$ is the $k$th entry of $\\vec{A}$. Also $n$ is the number of qubits necessary to represent the state, in our case $n=5$. Note that the oracle\n",
    "is composed of a **Diagonal operator** (arXiv:0406176) and a **Walsh-Hadamard** transform. The inverse of the oracle is then\n",
    "$$ O^{-1}(\\vec{B}) = \\left[O(\\vec{B})\\right]^{\\dagger} = H^{\\otimes n}\\left(\\sum_{k=0}^{2^n-1} |k\\rangle \\langle k| e^{-i 2\\pi A_k/6}\\right)$$\n",
    "\n",
    "At this point we can observe that if the permutations between $O(\\vec{A})$ and $O^{-1}(\\vec{B})$ transform the state $\\vec{A}$ to state $\\vec{B}$, then the circuit\n",
    "applied to the registry dedicated to the cube state is equivalent to the identity, i.e. the end state is $|0\\rangle^{\\otimes n}$. Moreover, since the representation of the\n",
    "cube state uses $n$ qubits in superposition, a permutation implementing a solution determines a collapse to a single computational basis vector, hence when measured we obtain\n",
    "a spike in the distribution. In regards to the measurement, if we filter the bit strings having the pattern $00000 p_1 p_2 \\ldots p_t$, where the bits $p_i$ are the permutations\n",
    "controlling bits, the spikes of such distribution are likely to be solutions, also the solution (i.e. the sequence of moves) is encoded in the bits $p_1 p_2 \\ldots p_t$.\n",
    "\n",
    "The permutation blocks are obtained by encoding the basic moves of the cube (eg. Up 90 deg, Right 90) into **permutation matrices**. The latters are built by re-arranging the columns\n",
    "of the identity matrix of size $2^n \\times 2^n$. Permutation matrices are unitary, indeed\n",
    "$P^{T} = P^{-1}, P_{ij} \\in \\{0, 1\\} \\implies P^{T} = P^{H} \\implies P^HP=PP^H=I$, hence $P$ is unitary. Such matrices are encoded directly using a **unitary operator** and by rely\n",
    "on the **transpiler** for the translation to basic gates. The type and repetitions of permutations should be carefully choosen such that they generate the group of permutations allowed\n",
    "by the Rubik's cube mechanism. \n",
    "Finally the unitary operators (corresponding to the permutations) are controlled by some qubits being initialized with the\n",
    "Walsh-Hadamard transform, forming so the superposition of moves."
   ]
  },
  {
   "cell_type": "code",
   "execution_count": null,
   "metadata": {},
   "outputs": [],
   "source": [
    "import numpy as np\n",
    "import matplotlib.pyplot as plt\n",
    "from matplotlib import widgets\n",
    "from projection import Quaternion, project_points\n",
    "from rubiks_cube import Cube, InteractiveCube\n",
    "import random"
   ]
  },
  {
   "cell_type": "markdown",
   "metadata": {},
   "source": [
    "Due to the limitation in number of qubits, we are not constructing a generator of the entire group of permutations of the cube.\n",
    "\n",
    "For this reason the solver does not solve all starting cubes. As a proof of concept, we have tested [U], [R], [U,R], [R,U], [U,U] [U,U,U], [R,R], [R,R,R],[U,R,U],\n",
    "U is the up move,\n",
    "R is the right move,\n",
    "[U,U] is the up move twice etc."
   ]
  },
  {
   "cell_type": "code",
   "execution_count": null,
   "metadata": {},
   "outputs": [],
   "source": [
    "%matplotlib qt  \n",
    "N=2\n",
    "c = Cube(N)\n",
    "c._printCube()\n",
    "c.draw_interactive()\n",
    "plt.show()"
   ]
  }
 ],
 "metadata": {
  "kernelspec": {
   "display_name": "Python 3",
   "language": "python",
   "name": "python3"
  },
  "language_info": {
   "codemirror_mode": {
    "name": "ipython",
    "version": 3
   },
   "file_extension": ".py",
   "mimetype": "text/x-python",
   "name": "python",
   "nbconvert_exporter": "python",
   "pygments_lexer": "ipython3",
   "version": "3.7.4"
  }
 },
 "nbformat": 4,
 "nbformat_minor": 2
}
